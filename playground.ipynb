{
 "cells": [
  {
   "cell_type": "code",
   "execution_count": 1,
   "id": "ebe96c65",
   "metadata": {},
   "outputs": [],
   "source": [
    "#363 vs 361\n",
    "# with and without transition statement\n",
    "# with and without response times\n",
    "# with and without I don't know only.\n",
    "# with random names and with sequential user1, user2, etc...\n",
    "# should include username to demographics"
   ]
  },
  {
   "cell_type": "code",
   "execution_count": 2,
   "id": "d6dae655",
   "metadata": {},
   "outputs": [],
   "source": [
    "import pandas as pd\n",
    "\n",
    "df = pd.read_csv(\"experiment_data/sqb/sqb_data.csv\")"
   ]
  },
  {
   "cell_type": "code",
   "execution_count": 3,
   "id": "48e93b98",
   "metadata": {},
   "outputs": [],
   "source": [
    "sqb_markers = [\"National Highway Safety\", \"You are a serious reader\", \"When evaluating teaching job offers,\"]"
   ]
  },
  {
   "cell_type": "code",
   "execution_count": 4,
   "id": "e97c2cac",
   "metadata": {},
   "outputs": [],
   "source": [
    "class Participant:\n",
    "\n",
    "    transcript = \"\"\n",
    "    transcript_with_response_times = \"\"\n",
    "    choice_problem = \"\"\n",
    "\n",
    "    def process_transcript(self, chat_transcript):\n",
    "        # Transcript without response times\n",
    "        transcript = \"\"\n",
    "        for msg in chat_transcript:\n",
    "            if any(marker in msg['content'] for marker in sqb_markers):\n",
    "                break\n",
    "            transcript += f\"{msg['role']}: {msg['content']}\\n\"\n",
    "\n",
    "        # Transcript with response times\n",
    "        transcript_with_response_times = \"\"\n",
    "        for i, msg in enumerate(chat_transcript):\n",
    "\n",
    "            if any(marker in msg['content'] for marker in sqb_markers):\n",
    "                break\n",
    "\n",
    "            time_diff = None\n",
    "\n",
    "            if i > 1:\n",
    "                if msg['timestamp']['client_timestamp'] != 0 and chat_transcript[i-1]['timestamp']['client_timestamp'] != 0:\n",
    "                    time_diff = msg['timestamp']['client_timestamp'] - chat_transcript[i-1]['timestamp']['client_timestamp']\n",
    "                else:\n",
    "                    try:\n",
    "                        time_diff = msg['timestamp']['server_timestamp'] - chat_transcript[i-1]['timestamp']['server_timestamp']\n",
    "                    except KeyError:\n",
    "                        time_diff = -1\n",
    "\n",
    "            # Add a blank line before each message except the first\n",
    "            if i > 0:\n",
    "                transcript_with_response_times += \"\\n\"\n",
    "\n",
    "            if msg['role'] == 'user' and i > 1:\n",
    "                transcript_with_response_times += f\"{msg['role']}: {msg['content']} (response time: {time_diff} ms)\"\n",
    "            else:\n",
    "                transcript_with_response_times += f\"{msg['role']}: {msg['content']}\"\n",
    "\n",
    "        # Extract the choice problem statement\n",
    "        choice_problem = \"\\n\".join(f\"{msg['role']}: {msg['content']}\" for msg in chat_transcript if any(marker in msg['content'] for marker in sqb_markers))\n",
    "        choice_problem = choice_problem.replace(\"assistant: \", \"\")\n",
    "\n",
    "        self.transcript = transcript\n",
    "        self.transcript_with_response_times = transcript_with_response_times\n",
    "        self.choice_problem = choice_problem\n",
    "\n",
    "\n",
    "    def __init__(self, participant_id = None, condition = None, prolific_data = None, chat_transcript = None, change_username = None, change_assistantname = None):\n",
    "        # Unique identifier for the participant\n",
    "        self.Participant_ID = participant_id\n",
    "\n",
    "        # Experiment condition\n",
    "        self.condition = condition\n",
    "\n",
    "        # Demographic info from Prolific\n",
    "        self.prolific_data = prolific_data\n",
    "\n",
    "        # Chat Data\n",
    "        self.chat_transcript = chat_transcript if chat_transcript is not None else []\n",
    "\n",
    "        if self.chat_transcript is not None:\n",
    "            self.process_transcript(self.chat_transcript)\n",
    "\n",
    "        if change_username is not None:\n",
    "            self.change_user_name(change_username)\n",
    "\n",
    "        if change_assistantname is not None:\n",
    "            self.change_assistant_name(change_assistantname)\n",
    "\n",
    "    def update_participant_id(self, participant_id):\n",
    "        self.Participant_ID = participant_id\n",
    "\n",
    "    def update_condition(self, condition):\n",
    "        self.condition = condition\n",
    "\n",
    "    def update_prolific_data(self, key, value):\n",
    "        if self.prolific_data is not None:\n",
    "            self.prolific_data[key] = value\n",
    "\n",
    "    def update_chat_transcript(self, chat_transcript):\n",
    "        self.chat_transcript = self.process_transcript(chat_transcript)\n",
    "\n",
    "    def get_participant_id(self):\n",
    "        return self.Participant_ID\n",
    "\n",
    "    def get_demographics(self):\n",
    "        return self.prolific_data\n",
    "\n",
    "    def get_transcript(self) -> str:\n",
    "        return self.transcript\n",
    "    \n",
    "    def get_transcript_with_response_times(self) -> str:\n",
    "        return self.transcript_with_response_times\n",
    "\n",
    "    def get_choice_problem(self) -> str:\n",
    "        return self.choice_problem\n",
    "    \n",
    "    def change_user_name(self, new_name):\n",
    "        self.transcript = self.transcript.replace(\"user:\", f\"{new_name}:\")\n",
    "        self.transcript_with_response_times = self.transcript_with_response_times.replace(\"user:\", f\"{new_name}:\")\n",
    "    \n",
    "    def change_assistant_name(self, new_name):\n",
    "        self.transcript = self.transcript.replace(\"assistant:\", f\"{new_name}:\")\n",
    "        self.transcript_with_response_times = self.transcript_with_response_times.replace(\"assistant:\", f\"{new_name}:\")\n",
    "\n",
    "columns = [\n",
    "    \"Age\",\n",
    "    \"Sex\",\n",
    "    \"Ethnicity simplified\",\n",
    "    \"Country of birth\",\n",
    "    \"Country of residence\",\n",
    "    \"Nationality\",\n",
    "    \"Language\",\n",
    "    \"Student status\",\n",
    "    \"Employment status\"\n",
    "]\n",
    "\n",
    "participants = []\n",
    "\n",
    "import ast\n",
    "\n",
    "for row_id in range(len(df)):\n",
    "\n",
    "    participant = Participant(participant_id = df[\"Participant id\"][row_id], \n",
    "                            condition = df[\"expcode\"][row_id], \n",
    "                            prolific_data = {col: df.loc[row_id, col] for col in columns}, \n",
    "                            chat_transcript = ast.literal_eval(df[\"chat_data\"][row_id]),\n",
    "                            change_username = \"[User]\",\n",
    "                            change_assistantname = \"[Interviewer]\"\n",
    "                           )\n",
    "    participants.append(participant)\n"
   ]
  },
  {
   "cell_type": "code",
   "execution_count": 5,
   "id": "8a6a0c67",
   "metadata": {},
   "outputs": [],
   "source": [
    "# print(participants[0].get_demographics())\n",
    "# print(participants[0].get_transcript())\n",
    "# print(participants[0].get_transcript_with_response_times())\n",
    "# print(participants[0].get_choice_problem())"
   ]
  },
  {
   "cell_type": "code",
   "execution_count": 8,
   "id": "ea590b91",
   "metadata": {},
   "outputs": [
    {
     "name": "stderr",
     "output_type": "stream",
     "text": [
      "100%|██████████| 20/20 [00:31<00:00,  1.55s/it]\n"
     ]
    }
   ],
   "source": [
    "from genagents.genagents import GenerativeAgent\n",
    "import json\n",
    "from tqdm import tqdm\n",
    "\n",
    "sim_output = []\n",
    "\n",
    "for participant in tqdm(participants[:20]):\n",
    "    # Initialize a new agent\n",
    "    agent = GenerativeAgent()\n",
    "    # Update the agent's scratchpad with personal information\n",
    "    agent.update_scratch({k: (v.item() if hasattr(v, \"item\") else v) for k, v in participant.get_demographics().items()})\n",
    "    dialogue = [\n",
    "        (\"Interviewer\", participant.get_choice_problem()),\n",
    "    ]\n",
    "\n",
    "    response = agent.utterance(dialogue, context=participant.get_transcript())\n",
    "\n",
    "    sim_output.append({ participant.get_participant_id() : response })\n",
    "\n",
    "    agent.save(\"experiment_agents/{}\".format(participant.get_participant_id()))\n",
    "\n",
    "    # break\n"
   ]
  },
  {
   "cell_type": "code",
   "execution_count": 9,
   "id": "dc62a240",
   "metadata": {},
   "outputs": [
    {
     "data": {
      "text/plain": [
       "[{'3a6fd310cc79b06916fc1004a781c2f2d3cd9d2e8b8880e1': 'I think I would choose to invest in moderate-risk Company A. The potential for a 30% increase seems more appealing to me than the high-risk option, especially since it has a good chance of being unchanged as well.'},\n",
       " {'3a6a83449c73b76844f24604f28591abde9b967c8e88d4e6': \"I think I would prefer to invest in moderate-risk Company A. It seems like a safer choice with a decent chance of growth, and I'm not comfortable with high-risk investments right now.\"},\n",
       " {'3a6fd3159c7aef3c11a41557f5dfc4a48999cc2b80d285e4': \"I would choose to invest in moderate-risk Company A. Even though the potential gain isn't as high as Company B, the risk seems more manageable for my current situation.\"},\n",
       " {'3961d345987fb33d16fc1553a7d3c2a3db9fcc2d8189d7e3': 'I would choose to invest in moderate-risk Company A. It seems like a safer option with a decent chance of increasing in value.'},\n",
       " {'3a6fd246c12ce43f17f14551f282c0a3dfcb997b888ad0e1': \"I would choose to invest in moderate-risk Company A. The potential for a 30% increase seems reasonable, and I prefer to manage risk, especially since I'm still getting used to having funds to invest.\"},\n",
       " {'3a6fd215c02ce26842fc1600f0dfc3aa899c977edadb83e2': 'I think I would choose to invest in moderate-risk Company A.'},\n",
       " {'3a6fd211c82ce73c18a41257f7d196aad29a9a2a8cd3d0e4': 'I would choose to invest in moderate-risk Company A. It seems like a more balanced option with a decent chance of growth without taking too much risk.'},\n",
       " {'3a6a8413cd7db26711a01754a78193f08f9cca20dbdb81e1': 'I would prefer to invest in moderate-risk Company A. It seems like a safer option with a better chance of a reasonable return.'},\n",
       " {'3a6e8441c178ee6f13a64503fdd2c7f68e9c972ede8a82e5': 'I think I would choose to invest in moderate-risk Company A. The potential for a 30% increase seems more appealing to me than the high risk of Company B.'},\n",
       " {'393d841e987ee36d10fd1250f486c2f18ec89b28dad3d2e4': 'I would prefer to invest in moderate-risk Company A. It seems more stable, and I appreciate the chance of a reasonable return without the extreme volatility of high-risk options.'},\n",
       " {'393adc1ec879e26b41a11504a6d5c2a3db9fc921818d81b3': \"I would prefer to invest in moderate-risk Company A. While the potential for return in Company B is higher, I feel more comfortable with the stability of Company A's moderate risk.\"},\n",
       " {'3a6ed01f9b72e46c14fd1703a3d6c6a78fcd9a2a8f8ad3b3': 'I would prefer to invest in moderate-risk Company A, as it seems to have a more balanced approach and a smaller chance of significant loss.'},\n",
       " {'3a6a87119a28e46917f11655a68491f18896c92a8f8ad5e2': 'I think I would prefer to invest in moderate-risk Company A. It seems like a safer option with a better chance of not losing too much value, and the potential for a 30% increase is appealing.'},\n",
       " {'3a6b8612cf29b46845f01607f18191a08ecf992fdadf84ee': 'I would choose to invest in moderate-risk Company A. While it has a lower potential for high returns compared to Company B, the risks are more manageable, and I prefer to avoid the possibility of losing a significant portion of my investment.'},\n",
       " {'393a841ecd73e26d44f51804a7d5c2a3db9fcc208cd886b6': 'I think I would prefer to invest in moderate-risk Company A. The potential for a 30% increase seems more stable compared to the high risks associated with Company B.'},\n",
       " {'3a6fd4109d7ab06b12a64350a0d793a48d9f9c7a8dd287b6': 'I would choose to invest in moderate-risk Company A. It seems like a safer option with a chance of good returns, and I prefer to avoid high-risk investments that could lead to significant losses.'},\n",
       " {'3a6fd3419d7de56914a14504a4d393a5d3cf9c7b8adb87e1': 'I would choose to invest in moderate-risk Company A. Even though the potential gains are lower compared to Company B, I prefer a more stable investment with less chance of significant loss.'},\n",
       " {'393b861fce7eef6845f2165cf2d3c2a3da999b79808fd3e1': 'I would choose to invest in moderate-risk Company A. It seems like a safer option with a decent chance of increasing in value.'},\n",
       " {'393ed4429f7cb53a15f61954a084c2a5d8969c208d8d82ef': 'I would choose to invest in moderate-risk Company A. The potential for a 30% increase seems more appealing to me than the high-risk option, even though it has a chance of doubling. I prefer a more stable investment.'},\n",
       " {'393bd2129c7fe53a46f7455cf581c2a3da9d962d898a82e7': 'I choose to invest in moderate-risk Company A.'}]"
      ]
     },
     "execution_count": 9,
     "metadata": {},
     "output_type": "execute_result"
    }
   ],
   "source": [
    "sim_output"
   ]
  },
  {
   "cell_type": "code",
   "execution_count": null,
   "id": "c60b5d80",
   "metadata": {},
   "outputs": [],
   "source": [
    "merged_output = {}\n",
    "for d in sim_output:\n",
    "    merged_output.update(d)\n",
    "merged_output\n",
    "\n",
    "merged_df = pd.DataFrame(list(merged_output.items()), columns=[\"Participant_ID\", \"Response\"])\n",
    "merged_df.head()"
   ]
  },
  {
   "cell_type": "code",
   "execution_count": null,
   "id": "f43e7926",
   "metadata": {},
   "outputs": [],
   "source": [
    "merged_df.to_csv(\"experiment_data/sqb/sqb_simulated_responses_v3.csv\", index=False)"
   ]
  },
  {
   "cell_type": "markdown",
   "id": "3786efc8",
   "metadata": {},
   "source": [
    "#### TEST"
   ]
  },
  {
   "cell_type": "code",
   "execution_count": null,
   "id": "433d0489",
   "metadata": {},
   "outputs": [],
   "source": [
    "# # pid = 112\n",
    "# # pid = 363\n",
    "# pid = 1\n",
    "\n",
    "# from genagents.genagents import GenerativeAgent\n",
    "# import json\n",
    "\n",
    "\n",
    "# agent = GenerativeAgent()\n",
    "\n",
    "# agent.update_scratch({k: (v.item() if hasattr(v, \"item\") else v) for k, v in participants[pid].get_demographics().items()})\n",
    "\n",
    "# dialogue = [\n",
    "#     (\"Interviewer\", participants[pid].get_choice_problem()),\n",
    "# ]\n",
    "\n",
    "# response = agent.utterance(dialogue, context=participants[pid].get_transcript())\n",
    "\n",
    "# print(response)\n",
    "\n",
    "# agent.save(\"experiment_agents/{}\".format(participants[pid].get_participant_id()))"
   ]
  },
  {
   "cell_type": "code",
   "execution_count": null,
   "id": "8d6b3f7b",
   "metadata": {},
   "outputs": [],
   "source": []
  }
 ],
 "metadata": {
  "kernelspec": {
   "display_name": "genagents",
   "language": "python",
   "name": "python3"
  },
  "language_info": {
   "codemirror_mode": {
    "name": "ipython",
    "version": 3
   },
   "file_extension": ".py",
   "mimetype": "text/x-python",
   "name": "python",
   "nbconvert_exporter": "python",
   "pygments_lexer": "ipython3",
   "version": "3.9.23"
  }
 },
 "nbformat": 4,
 "nbformat_minor": 5
}
